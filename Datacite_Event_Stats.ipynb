{
 "cells": [
  {
   "cell_type": "code",
   "execution_count": 7,
   "id": "e0cf39e4",
   "metadata": {},
   "outputs": [
    {
     "name": "stdout",
     "output_type": "stream",
     "text": [
      "Statistic of events per publication year:\n",
      "1987      2\n",
      "1991      2\n",
      "1994      2\n",
      "1997      2\n",
      "1999      2\n",
      "2000     10\n",
      "2001      2\n",
      "2002      2\n",
      "2003      6\n",
      "2004     10\n",
      "2005     10\n",
      "2006     12\n",
      "2007      6\n",
      "2008     12\n",
      "2009     12\n",
      "2010     12\n",
      "2011     18\n",
      "2012     18\n",
      "2013     10\n",
      "2014     12\n",
      "2015     22\n",
      "2016     36\n",
      "2017     84\n",
      "2018     60\n",
      "2019    132\n",
      "2020     94\n",
      "2021    102\n",
      "2022    132\n",
      "2023    192\n",
      "2024    974\n",
      "2025     10\n",
      "Name: Publication Year, dtype: int64\n"
     ]
    }
   ],
   "source": [
    "import requests\n",
    "import pandas as pd\n",
    "\n",
    "# Define the API URL\n",
    "api_url = \"https://api.datacite.org/dois\"\n",
    "\n",
    "# Define the query parameters\n",
    "params = {\n",
    "    \"resource-type-id\": \"Event\",\n",
    "    \"page[number]\": 1,\n",
    "    \"page[size]\": 1000\n",
    "}\n",
    "\n",
    "# Initialize lists to store data\n",
    "dois = []\n",
    "publication_years = []\n",
    "\n",
    "# Function to fetch data from API and append to lists\n",
    "def fetch_data(url, dois, publication_years):\n",
    "    response = requests.get(url, params=params)\n",
    "    data = response.json()\n",
    "    for item in data[\"data\"]:\n",
    "        attributes = item[\"attributes\"]\n",
    "        dois.append(attributes[\"doi\"])\n",
    "        publication_years.append(attributes[\"publicationYear\"])\n",
    "    return data[\"links\"][\"next\"]\n",
    "\n",
    "# Fetch data from first page\n",
    "next_url = fetch_data(api_url, dois, publication_years)\n",
    "\n",
    "# Fetch data from subsequent pages until 2 pages are fetched or no more data is available\n",
    "page_count = 1\n",
    "while next_url and page_count < 2:\n",
    "    next_url = fetch_data(next_url, dois, publication_years)\n",
    "    page_count += 1\n",
    "\n",
    "# Create a DataFrame from the extracted data\n",
    "df = pd.DataFrame({\n",
    "    \"DOI\": dois,\n",
    "    \"Publication Year\": publication_years\n",
    "})\n",
    "\n",
    "# Generate a statistic of events per publication year\n",
    "event_counts = df[\"Publication Year\"].value_counts().sort_index()\n",
    "\n",
    "# Print the statistic\n",
    "print(\"Statistic of events per publication year:\")\n",
    "print(event_counts)\n"
   ]
  },
  {
   "cell_type": "code",
   "execution_count": null,
   "id": "afc702e0",
   "metadata": {},
   "outputs": [],
   "source": []
  },
  {
   "cell_type": "code",
   "execution_count": 3,
   "id": "3b2a6627",
   "metadata": {},
   "outputs": [
    {
     "name": "stdout",
     "output_type": "stream",
     "text": [
      "                   DOI  Publication Year\n",
      "0   10.25798/33aq-mc61              2024\n",
      "1   10.25798/s3qh-cq80              2022\n",
      "2   10.25798/5s6f-hh60              2024\n",
      "3   10.25798/wh3v-dc90              2023\n",
      "4   10.25798/3re7-zn50              2024\n",
      "5   10.25798/zn0h-5n04              2024\n",
      "6   10.25798/k1jj-pf70              2023\n",
      "7   10.25798/jcr1-pz83              2000\n",
      "8   10.25798/ygr9-2994              2001\n",
      "9   10.25798/ky5d-rw07              2002\n",
      "10  10.25798/6mss-1a52              2003\n",
      "11  10.25798/9fn0-ry77              2007\n",
      "12  10.25798/t0j3-1n96              2004\n",
      "13  10.25798/y62w-c022              2005\n",
      "14  10.25798/wybk-n755              2006\n",
      "15  10.25798/9wrc-5j18              2008\n",
      "16  10.25798/b3ts-2376              2009\n",
      "17  10.25798/8xt6-j753              2010\n",
      "18  10.25798/wrc6-9q32              2011\n",
      "19  10.25798/eqqv-rx65              2012\n",
      "20  10.25798/x32a-5w82              2013\n",
      "21  10.25798/apwa-hn93              2014\n",
      "22  10.25798/p94j-jv21              2015\n",
      "23  10.25798/z1yy-1v50              2016\n",
      "24  10.25798/3h34-gb83              2017\n"
     ]
    }
   ],
   "source": [
    "print(df)"
   ]
  }
 ],
 "metadata": {
  "kernelspec": {
   "display_name": "Python 3 (ipykernel)",
   "language": "python",
   "name": "python3"
  },
  "language_info": {
   "codemirror_mode": {
    "name": "ipython",
    "version": 3
   },
   "file_extension": ".py",
   "mimetype": "text/x-python",
   "name": "python",
   "nbconvert_exporter": "python",
   "pygments_lexer": "ipython3",
   "version": "3.10.9"
  }
 },
 "nbformat": 4,
 "nbformat_minor": 5
}
